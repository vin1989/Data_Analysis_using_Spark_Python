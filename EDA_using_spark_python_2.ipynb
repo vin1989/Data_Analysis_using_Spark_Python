{
 "cells": [
  {
   "cell_type": "markdown",
   "id": "ed3f9f42",
   "metadata": {},
   "source": [
    "### EDA and Data Visualization"
   ]
  },
  {
   "cell_type": "code",
   "execution_count": 1,
   "id": "d32dc61d",
   "metadata": {},
   "outputs": [],
   "source": [
    "import warnings\n",
    "\n",
    "warnings.filterwarnings('ignore')\n",
    "\n",
    "import pyspark\n",
    "\n",
    "from pyspark.sql import SparkSession\n",
    "\n",
    "import pandas as pd\n",
    "\n",
    "from pyspark.sql.functions import isnan, when, count, col,avg"
   ]
  },
  {
   "cell_type": "code",
   "execution_count": 3,
   "id": "f69390cd",
   "metadata": {},
   "outputs": [],
   "source": [
    "spark = SparkSession.builder.appName('EDA').getOrCreate()"
   ]
  },
  {
   "cell_type": "code",
   "execution_count": 4,
   "id": "62589f78",
   "metadata": {},
   "outputs": [
    {
     "name": "stderr",
     "output_type": "stream",
     "text": [
      "                                                                                \r"
     ]
    }
   ],
   "source": [
    "df = spark.read.parquet('spark-warehouse/loan_data_cleaned')"
   ]
  },
  {
   "cell_type": "code",
   "execution_count": 5,
   "id": "d7f43d83",
   "metadata": {},
   "outputs": [
    {
     "name": "stderr",
     "output_type": "stream",
     "text": [
      "                                                                                \r"
     ]
    },
    {
     "data": {
      "text/html": [
       "<div>\n",
       "<style scoped>\n",
       "    .dataframe tbody tr th:only-of-type {\n",
       "        vertical-align: middle;\n",
       "    }\n",
       "\n",
       "    .dataframe tbody tr th {\n",
       "        vertical-align: top;\n",
       "    }\n",
       "\n",
       "    .dataframe thead th {\n",
       "        text-align: right;\n",
       "    }\n",
       "</style>\n",
       "<table border=\"1\" class=\"dataframe\">\n",
       "  <thead>\n",
       "    <tr style=\"text-align: right;\">\n",
       "      <th></th>\n",
       "      <th>term</th>\n",
       "      <th>home_ownership</th>\n",
       "      <th>grade</th>\n",
       "      <th>purpose</th>\n",
       "      <th>int_rate</th>\n",
       "      <th>addr_state</th>\n",
       "      <th>loan_status</th>\n",
       "      <th>application_type</th>\n",
       "      <th>loan_amnt</th>\n",
       "      <th>emp_length</th>\n",
       "      <th>annual_inc</th>\n",
       "      <th>delinq_2yrs</th>\n",
       "      <th>total_acc</th>\n",
       "      <th>term_cleaned</th>\n",
       "      <th>emplen_cleaned</th>\n",
       "      <th>revolutil_cleaned</th>\n",
       "      <th>bad_loan</th>\n",
       "    </tr>\n",
       "  </thead>\n",
       "  <tbody>\n",
       "    <tr>\n",
       "      <th>0</th>\n",
       "      <td>36 months</td>\n",
       "      <td>MORTGAGE</td>\n",
       "      <td>C</td>\n",
       "      <td>credit_card</td>\n",
       "      <td>13.56%</td>\n",
       "      <td>NC</td>\n",
       "      <td>Current</td>\n",
       "      <td>Individual</td>\n",
       "      <td>16000</td>\n",
       "      <td>4 years</td>\n",
       "      <td>40000.0</td>\n",
       "      <td>0</td>\n",
       "      <td>9</td>\n",
       "      <td>36</td>\n",
       "      <td>4</td>\n",
       "      <td>54.0</td>\n",
       "      <td>No</td>\n",
       "    </tr>\n",
       "    <tr>\n",
       "      <th>1</th>\n",
       "      <td>60 months</td>\n",
       "      <td>MORTGAGE</td>\n",
       "      <td>C</td>\n",
       "      <td>debt_consolidation</td>\n",
       "      <td>13.56%</td>\n",
       "      <td>NJ</td>\n",
       "      <td>Current</td>\n",
       "      <td>Individual</td>\n",
       "      <td>25000</td>\n",
       "      <td>5 years</td>\n",
       "      <td>68000.0</td>\n",
       "      <td>1</td>\n",
       "      <td>19</td>\n",
       "      <td>60</td>\n",
       "      <td>5</td>\n",
       "      <td>1.0</td>\n",
       "      <td>No</td>\n",
       "    </tr>\n",
       "    <tr>\n",
       "      <th>2</th>\n",
       "      <td>36 months</td>\n",
       "      <td>MORTGAGE</td>\n",
       "      <td>A</td>\n",
       "      <td>debt_consolidation</td>\n",
       "      <td>6.67%</td>\n",
       "      <td>CT</td>\n",
       "      <td>Current</td>\n",
       "      <td>Individual</td>\n",
       "      <td>15000</td>\n",
       "      <td>5 years</td>\n",
       "      <td>60000.0</td>\n",
       "      <td>0</td>\n",
       "      <td>25</td>\n",
       "      <td>36</td>\n",
       "      <td>5</td>\n",
       "      <td>36.0</td>\n",
       "      <td>No</td>\n",
       "    </tr>\n",
       "    <tr>\n",
       "      <th>3</th>\n",
       "      <td>36 months</td>\n",
       "      <td>RENT</td>\n",
       "      <td>B</td>\n",
       "      <td>debt_consolidation</td>\n",
       "      <td>10.08%</td>\n",
       "      <td>TX</td>\n",
       "      <td>Current</td>\n",
       "      <td>Individual</td>\n",
       "      <td>10000</td>\n",
       "      <td>1 year</td>\n",
       "      <td>60000.0</td>\n",
       "      <td>0</td>\n",
       "      <td>9</td>\n",
       "      <td>36</td>\n",
       "      <td>1</td>\n",
       "      <td>40.0</td>\n",
       "      <td>No</td>\n",
       "    </tr>\n",
       "    <tr>\n",
       "      <th>4</th>\n",
       "      <td>36 months</td>\n",
       "      <td>MORTGAGE</td>\n",
       "      <td>B</td>\n",
       "      <td>credit_card</td>\n",
       "      <td>11.55%</td>\n",
       "      <td>AZ</td>\n",
       "      <td>Current</td>\n",
       "      <td>Individual</td>\n",
       "      <td>12000</td>\n",
       "      <td>5 years</td>\n",
       "      <td>46000.0</td>\n",
       "      <td>0</td>\n",
       "      <td>37</td>\n",
       "      <td>36</td>\n",
       "      <td>5</td>\n",
       "      <td>34.0</td>\n",
       "      <td>No</td>\n",
       "    </tr>\n",
       "  </tbody>\n",
       "</table>\n",
       "</div>"
      ],
      "text/plain": [
       "         term home_ownership grade             purpose int_rate addr_state  \\\n",
       "0   36 months       MORTGAGE     C         credit_card   13.56%         NC   \n",
       "1   60 months       MORTGAGE     C  debt_consolidation   13.56%         NJ   \n",
       "2   36 months       MORTGAGE     A  debt_consolidation    6.67%         CT   \n",
       "3   36 months           RENT     B  debt_consolidation   10.08%         TX   \n",
       "4   36 months       MORTGAGE     B         credit_card   11.55%         AZ   \n",
       "\n",
       "  loan_status application_type  loan_amnt emp_length  annual_inc  delinq_2yrs  \\\n",
       "0     Current       Individual      16000    4 years     40000.0            0   \n",
       "1     Current       Individual      25000    5 years     68000.0            1   \n",
       "2     Current       Individual      15000    5 years     60000.0            0   \n",
       "3     Current       Individual      10000     1 year     60000.0            0   \n",
       "4     Current       Individual      12000    5 years     46000.0            0   \n",
       "\n",
       "   total_acc term_cleaned emplen_cleaned  revolutil_cleaned bad_loan  \n",
       "0          9          36               4               54.0       No  \n",
       "1         19          60               5                1.0       No  \n",
       "2         25          36               5               36.0       No  \n",
       "3          9          36               1               40.0       No  \n",
       "4         37          36               5               34.0       No  "
      ]
     },
     "execution_count": 5,
     "metadata": {},
     "output_type": "execute_result"
    }
   ],
   "source": [
    "df.toPandas().head()"
   ]
  },
  {
   "cell_type": "code",
   "execution_count": 6,
   "id": "2321f3d5",
   "metadata": {},
   "outputs": [],
   "source": [
    "### Check for any NaN or Null value in data"
   ]
  },
  {
   "cell_type": "code",
   "execution_count": 7,
   "id": "40c93a8c",
   "metadata": {},
   "outputs": [
    {
     "name": "stderr",
     "output_type": "stream",
     "text": [
      "                                                                                \r"
     ]
    },
    {
     "data": {
      "text/html": [
       "<div>\n",
       "<style scoped>\n",
       "    .dataframe tbody tr th:only-of-type {\n",
       "        vertical-align: middle;\n",
       "    }\n",
       "\n",
       "    .dataframe tbody tr th {\n",
       "        vertical-align: top;\n",
       "    }\n",
       "\n",
       "    .dataframe thead th {\n",
       "        text-align: right;\n",
       "    }\n",
       "</style>\n",
       "<table border=\"1\" class=\"dataframe\">\n",
       "  <thead>\n",
       "    <tr style=\"text-align: right;\">\n",
       "      <th></th>\n",
       "      <th>0</th>\n",
       "    </tr>\n",
       "  </thead>\n",
       "  <tbody>\n",
       "    <tr>\n",
       "      <th>term</th>\n",
       "      <td>0</td>\n",
       "    </tr>\n",
       "    <tr>\n",
       "      <th>home_ownership</th>\n",
       "      <td>0</td>\n",
       "    </tr>\n",
       "    <tr>\n",
       "      <th>grade</th>\n",
       "      <td>0</td>\n",
       "    </tr>\n",
       "    <tr>\n",
       "      <th>purpose</th>\n",
       "      <td>0</td>\n",
       "    </tr>\n",
       "    <tr>\n",
       "      <th>int_rate</th>\n",
       "      <td>0</td>\n",
       "    </tr>\n",
       "    <tr>\n",
       "      <th>addr_state</th>\n",
       "      <td>0</td>\n",
       "    </tr>\n",
       "    <tr>\n",
       "      <th>loan_status</th>\n",
       "      <td>0</td>\n",
       "    </tr>\n",
       "    <tr>\n",
       "      <th>application_type</th>\n",
       "      <td>0</td>\n",
       "    </tr>\n",
       "    <tr>\n",
       "      <th>loan_amnt</th>\n",
       "      <td>0</td>\n",
       "    </tr>\n",
       "    <tr>\n",
       "      <th>emp_length</th>\n",
       "      <td>0</td>\n",
       "    </tr>\n",
       "    <tr>\n",
       "      <th>annual_inc</th>\n",
       "      <td>0</td>\n",
       "    </tr>\n",
       "    <tr>\n",
       "      <th>delinq_2yrs</th>\n",
       "      <td>0</td>\n",
       "    </tr>\n",
       "    <tr>\n",
       "      <th>total_acc</th>\n",
       "      <td>0</td>\n",
       "    </tr>\n",
       "    <tr>\n",
       "      <th>term_cleaned</th>\n",
       "      <td>0</td>\n",
       "    </tr>\n",
       "    <tr>\n",
       "      <th>emplen_cleaned</th>\n",
       "      <td>0</td>\n",
       "    </tr>\n",
       "    <tr>\n",
       "      <th>revolutil_cleaned</th>\n",
       "      <td>0</td>\n",
       "    </tr>\n",
       "    <tr>\n",
       "      <th>bad_loan</th>\n",
       "      <td>0</td>\n",
       "    </tr>\n",
       "  </tbody>\n",
       "</table>\n",
       "</div>"
      ],
      "text/plain": [
       "                   0\n",
       "term               0\n",
       "home_ownership     0\n",
       "grade              0\n",
       "purpose            0\n",
       "int_rate           0\n",
       "addr_state         0\n",
       "loan_status        0\n",
       "application_type   0\n",
       "loan_amnt          0\n",
       "emp_length         0\n",
       "annual_inc         0\n",
       "delinq_2yrs        0\n",
       "total_acc          0\n",
       "term_cleaned       0\n",
       "emplen_cleaned     0\n",
       "revolutil_cleaned  0\n",
       "bad_loan           0"
      ]
     },
     "execution_count": 7,
     "metadata": {},
     "output_type": "execute_result"
    }
   ],
   "source": [
    "df.select([count(when(isnan(c)|col(c).isNull(), c)).alias(c) for c in df.columns]).toPandas().transpose()"
   ]
  },
  {
   "cell_type": "code",
   "execution_count": 8,
   "id": "6e14a774",
   "metadata": {},
   "outputs": [],
   "source": [
    "df.createOrReplaceTempView('cleaned_data')"
   ]
  },
  {
   "cell_type": "code",
   "execution_count": 9,
   "id": "37dfb210",
   "metadata": {},
   "outputs": [
    {
     "name": "stderr",
     "output_type": "stream",
     "text": [
      "                                                                                \r"
     ]
    },
    {
     "data": {
      "text/html": [
       "<div>\n",
       "<style scoped>\n",
       "    .dataframe tbody tr th:only-of-type {\n",
       "        vertical-align: middle;\n",
       "    }\n",
       "\n",
       "    .dataframe tbody tr th {\n",
       "        vertical-align: top;\n",
       "    }\n",
       "\n",
       "    .dataframe thead th {\n",
       "        text-align: right;\n",
       "    }\n",
       "</style>\n",
       "<table border=\"1\" class=\"dataframe\">\n",
       "  <thead>\n",
       "    <tr style=\"text-align: right;\">\n",
       "      <th></th>\n",
       "      <th>summary</th>\n",
       "      <th>term</th>\n",
       "      <th>home_ownership</th>\n",
       "      <th>grade</th>\n",
       "      <th>purpose</th>\n",
       "      <th>int_rate</th>\n",
       "      <th>addr_state</th>\n",
       "      <th>loan_status</th>\n",
       "      <th>application_type</th>\n",
       "      <th>loan_amnt</th>\n",
       "      <th>emp_length</th>\n",
       "      <th>annual_inc</th>\n",
       "      <th>delinq_2yrs</th>\n",
       "      <th>total_acc</th>\n",
       "      <th>term_cleaned</th>\n",
       "      <th>emplen_cleaned</th>\n",
       "      <th>revolutil_cleaned</th>\n",
       "      <th>bad_loan</th>\n",
       "    </tr>\n",
       "  </thead>\n",
       "  <tbody>\n",
       "    <tr>\n",
       "      <th>0</th>\n",
       "      <td>count</td>\n",
       "      <td>128412</td>\n",
       "      <td>128412</td>\n",
       "      <td>128412</td>\n",
       "      <td>128412</td>\n",
       "      <td>128412</td>\n",
       "      <td>128412</td>\n",
       "      <td>128412</td>\n",
       "      <td>128412</td>\n",
       "      <td>128412</td>\n",
       "      <td>128412</td>\n",
       "      <td>128412</td>\n",
       "      <td>128412</td>\n",
       "      <td>128412</td>\n",
       "      <td>128412</td>\n",
       "      <td>128412</td>\n",
       "      <td>128412</td>\n",
       "      <td>128412</td>\n",
       "    </tr>\n",
       "    <tr>\n",
       "      <th>1</th>\n",
       "      <td>mean</td>\n",
       "      <td>None</td>\n",
       "      <td>None</td>\n",
       "      <td>None</td>\n",
       "      <td>None</td>\n",
       "      <td>None</td>\n",
       "      <td>None</td>\n",
       "      <td>None</td>\n",
       "      <td>None</td>\n",
       "      <td>15971.32102139987</td>\n",
       "      <td>None</td>\n",
       "      <td>82797.32786094758</td>\n",
       "      <td>0.22783696227766875</td>\n",
       "      <td>22.677413325857398</td>\n",
       "      <td>43.51948416035884</td>\n",
       "      <td>5.609821091955992</td>\n",
       "      <td>43.76206961077843</td>\n",
       "      <td>None</td>\n",
       "    </tr>\n",
       "    <tr>\n",
       "      <th>2</th>\n",
       "      <td>stddev</td>\n",
       "      <td>None</td>\n",
       "      <td>None</td>\n",
       "      <td>None</td>\n",
       "      <td>None</td>\n",
       "      <td>None</td>\n",
       "      <td>None</td>\n",
       "      <td>None</td>\n",
       "      <td>None</td>\n",
       "      <td>10150.384232741908</td>\n",
       "      <td>None</td>\n",
       "      <td>108298.46579150062</td>\n",
       "      <td>0.7337929617806055</td>\n",
       "      <td>12.129215673024765</td>\n",
       "      <td>11.132202965983405</td>\n",
       "      <td>3.6776295739511053</td>\n",
       "      <td>24.786779696453944</td>\n",
       "      <td>None</td>\n",
       "    </tr>\n",
       "    <tr>\n",
       "      <th>3</th>\n",
       "      <td>min</td>\n",
       "      <td>36 months</td>\n",
       "      <td>ANY</td>\n",
       "      <td>A</td>\n",
       "      <td>car</td>\n",
       "      <td>10.08%</td>\n",
       "      <td>AK</td>\n",
       "      <td>Charged Off</td>\n",
       "      <td>Individual</td>\n",
       "      <td>1000</td>\n",
       "      <td>1 year</td>\n",
       "      <td>0.0</td>\n",
       "      <td>0</td>\n",
       "      <td>2</td>\n",
       "      <td>36</td>\n",
       "      <td></td>\n",
       "      <td>0.0</td>\n",
       "      <td>No</td>\n",
       "    </tr>\n",
       "    <tr>\n",
       "      <th>4</th>\n",
       "      <td>max</td>\n",
       "      <td>60 months</td>\n",
       "      <td>RENT</td>\n",
       "      <td>G</td>\n",
       "      <td>vacation</td>\n",
       "      <td>8.81%</td>\n",
       "      <td>WY</td>\n",
       "      <td>Late (31-120 days)</td>\n",
       "      <td>Joint App</td>\n",
       "      <td>40000</td>\n",
       "      <td>n/a</td>\n",
       "      <td>9757200.0</td>\n",
       "      <td>24</td>\n",
       "      <td>160</td>\n",
       "      <td>60</td>\n",
       "      <td>9</td>\n",
       "      <td>183.0</td>\n",
       "      <td>Yes</td>\n",
       "    </tr>\n",
       "  </tbody>\n",
       "</table>\n",
       "</div>"
      ],
      "text/plain": [
       "  summary        term home_ownership   grade   purpose int_rate addr_state  \\\n",
       "0   count      128412         128412  128412    128412   128412     128412   \n",
       "1    mean        None           None    None      None     None       None   \n",
       "2  stddev        None           None    None      None     None       None   \n",
       "3     min   36 months            ANY       A       car   10.08%         AK   \n",
       "4     max   60 months           RENT       G  vacation    8.81%         WY   \n",
       "\n",
       "          loan_status application_type           loan_amnt emp_length  \\\n",
       "0              128412           128412              128412     128412   \n",
       "1                None             None   15971.32102139987       None   \n",
       "2                None             None  10150.384232741908       None   \n",
       "3         Charged Off       Individual                1000     1 year   \n",
       "4  Late (31-120 days)        Joint App               40000        n/a   \n",
       "\n",
       "           annual_inc          delinq_2yrs           total_acc  \\\n",
       "0              128412               128412              128412   \n",
       "1   82797.32786094758  0.22783696227766875  22.677413325857398   \n",
       "2  108298.46579150062   0.7337929617806055  12.129215673024765   \n",
       "3                 0.0                    0                   2   \n",
       "4           9757200.0                   24                 160   \n",
       "\n",
       "         term_cleaned      emplen_cleaned   revolutil_cleaned bad_loan  \n",
       "0              128412              128412              128412   128412  \n",
       "1   43.51948416035884   5.609821091955992   43.76206961077843     None  \n",
       "2  11.132202965983405  3.6776295739511053  24.786779696453944     None  \n",
       "3                 36                                      0.0       No  \n",
       "4                 60                    9               183.0      Yes  "
      ]
     },
     "execution_count": 9,
     "metadata": {},
     "output_type": "execute_result"
    }
   ],
   "source": [
    "df.describe().toPandas()   #descriptive analysis"
   ]
  },
  {
   "cell_type": "code",
   "execution_count": 10,
   "id": "189f7c53",
   "metadata": {},
   "outputs": [
    {
     "name": "stdout",
     "output_type": "stream",
     "text": [
      "+----------+--------------+\n",
      "|addr_state|sum(loan_amnt)|\n",
      "+----------+--------------+\n",
      "|        AZ|      48675775|\n",
      "|        SC|      26727325|\n",
      "|        LA|      20446175|\n",
      "|        MN|      32531850|\n",
      "|        NJ|      77727025|\n",
      "|        DC|       4579000|\n",
      "|        OR|      23525900|\n",
      "|        VA|      57595925|\n",
      "|        RI|       9891700|\n",
      "|        KY|      19158625|\n",
      "|        WY|       4193675|\n",
      "|        NH|       9825225|\n",
      "|        MI|      48577325|\n",
      "|        NV|      30631275|\n",
      "|        WI|      26321200|\n",
      "|        ID|       7224075|\n",
      "|        CA|     293963875|\n",
      "|        CT|      33652125|\n",
      "|        NE|       9700025|\n",
      "|        MT|       5211925|\n",
      "+----------+--------------+\n",
      "only showing top 20 rows\n",
      "\n"
     ]
    }
   ],
   "source": [
    "spark.sql('select addr_state,sum(loan_amnt) from cleaned_data group by addr_state').show()"
   ]
  },
  {
   "cell_type": "code",
   "execution_count": 11,
   "id": "1953297c",
   "metadata": {},
   "outputs": [],
   "source": [
    "pandas_df = spark.sql('select addr_state,sum(loan_amnt) from cleaned_data group by addr_state').toPandas()"
   ]
  },
  {
   "cell_type": "code",
   "execution_count": 12,
   "id": "2aa5ad79",
   "metadata": {},
   "outputs": [],
   "source": [
    "#! pip install seaborn"
   ]
  },
  {
   "cell_type": "code",
   "execution_count": 13,
   "id": "cdaffbb8",
   "metadata": {},
   "outputs": [],
   "source": [
    "import seaborn as sb\n",
    "import matplotlib.pyplot as plt"
   ]
  },
  {
   "cell_type": "code",
   "execution_count": 14,
   "id": "0cc200d2",
   "metadata": {},
   "outputs": [
    {
     "data": {
      "image/png": "[encoded data removed]",
      "text/plain": [
       "<Figure size 1296x432 with 1 Axes>"
      ]
     },
     "metadata": {
      "needs_background": "light"
     },
     "output_type": "display_data"
    }
   ],
   "source": [
    "plt.figure(figsize=(18,6))\n",
    "sb.barplot(pandas_df['addr_state'],pandas_df['sum(loan_amnt)'],data=pandas_df)\n",
    "plt.show()"
   ]
  },
  {
   "cell_type": "code",
   "execution_count": 15,
   "id": "719ce0b9",
   "metadata": {},
   "outputs": [],
   "source": [
    "### no. of customers from each state"
   ]
  },
  {
   "cell_type": "code",
   "execution_count": 16,
   "id": "fd919226",
   "metadata": {},
   "outputs": [
    {
     "name": "stdout",
     "output_type": "stream",
     "text": [
      "+----------+-----+\n",
      "|addr_state|count|\n",
      "+----------+-----+\n",
      "|        AZ| 3149|\n",
      "|        SC| 1692|\n",
      "|        LA| 1328|\n",
      "|        MN| 2078|\n",
      "|        NJ| 4711|\n",
      "|        DC|  274|\n",
      "|        OR| 1562|\n",
      "|        VA| 3364|\n",
      "|        RI|  614|\n",
      "|        KY| 1280|\n",
      "|        WY|  241|\n",
      "|        NH|  643|\n",
      "|        MI| 3249|\n",
      "|        NV| 2006|\n",
      "|        WI| 1729|\n",
      "|        ID|  501|\n",
      "|        CA|17879|\n",
      "|        CT| 2038|\n",
      "|        NE|  642|\n",
      "|        MT|  343|\n",
      "+----------+-----+\n",
      "only showing top 20 rows\n",
      "\n"
     ]
    }
   ],
   "source": [
    "df.groupBy('addr_state').count().show()"
   ]
  },
  {
   "cell_type": "code",
   "execution_count": 17,
   "id": "036a38ea",
   "metadata": {},
   "outputs": [],
   "source": [
    "pandas_df2 = df.groupBy('addr_state').count().toPandas()"
   ]
  },
  {
   "cell_type": "code",
   "execution_count": 18,
   "id": "98a9916f",
   "metadata": {},
   "outputs": [],
   "source": [
    "#pandas_df2"
   ]
  },
  {
   "cell_type": "code",
   "execution_count": 19,
   "id": "19c5fabb",
   "metadata": {},
   "outputs": [
    {
     "data": {
      "image/png": "[encoded data removed]",
      "text/plain": [
       "<Figure size 1296x432 with 1 Axes>"
      ]
     },
     "metadata": {
      "needs_background": "light"
     },
     "output_type": "display_data"
    }
   ],
   "source": [
    "plt.figure(figsize=(18,6))\n",
    "sb.barplot(pandas_df2['addr_state'],pandas_df2['count'],data=pandas_df2)\n",
    "plt.show()"
   ]
  },
  {
   "cell_type": "code",
   "execution_count": 20,
   "id": "1b7c499b",
   "metadata": {},
   "outputs": [],
   "source": [
    "#df.where(df.bad_loan=='Yes').groupBy('addr_state').count().show()"
   ]
  },
  {
   "cell_type": "code",
   "execution_count": 21,
   "id": "eae9c694",
   "metadata": {},
   "outputs": [],
   "source": [
    "### Maximum no of bad loan from each state\n",
    "pandas_df3 = df.where(df.bad_loan=='Yes').groupBy('addr_state').count().toPandas()"
   ]
  },
  {
   "cell_type": "code",
   "execution_count": 22,
   "id": "236ed112",
   "metadata": {},
   "outputs": [
    {
     "data": {
      "text/html": [
       "<div>\n",
       "<style scoped>\n",
       "    .dataframe tbody tr th:only-of-type {\n",
       "        vertical-align: middle;\n",
       "    }\n",
       "\n",
       "    .dataframe tbody tr th {\n",
       "        vertical-align: top;\n",
       "    }\n",
       "\n",
       "    .dataframe thead th {\n",
       "        text-align: right;\n",
       "    }\n",
       "</style>\n",
       "<table border=\"1\" class=\"dataframe\">\n",
       "  <thead>\n",
       "    <tr style=\"text-align: right;\">\n",
       "      <th></th>\n",
       "      <th>addr_state</th>\n",
       "      <th>count</th>\n",
       "    </tr>\n",
       "  </thead>\n",
       "  <tbody>\n",
       "    <tr>\n",
       "      <th>0</th>\n",
       "      <td>AZ</td>\n",
       "      <td>49</td>\n",
       "    </tr>\n",
       "    <tr>\n",
       "      <th>1</th>\n",
       "      <td>SC</td>\n",
       "      <td>17</td>\n",
       "    </tr>\n",
       "    <tr>\n",
       "      <th>2</th>\n",
       "      <td>LA</td>\n",
       "      <td>20</td>\n",
       "    </tr>\n",
       "    <tr>\n",
       "      <th>3</th>\n",
       "      <td>MN</td>\n",
       "      <td>26</td>\n",
       "    </tr>\n",
       "    <tr>\n",
       "      <th>4</th>\n",
       "      <td>NJ</td>\n",
       "      <td>48</td>\n",
       "    </tr>\n",
       "  </tbody>\n",
       "</table>\n",
       "</div>"
      ],
      "text/plain": [
       "  addr_state  count\n",
       "0         AZ     49\n",
       "1         SC     17\n",
       "2         LA     20\n",
       "3         MN     26\n",
       "4         NJ     48"
      ]
     },
     "execution_count": 22,
     "metadata": {},
     "output_type": "execute_result"
    }
   ],
   "source": [
    "pandas_df3.head()"
   ]
  },
  {
   "cell_type": "code",
   "execution_count": 23,
   "id": "1bf298df",
   "metadata": {},
   "outputs": [
    {
     "data": {
      "image/png": "[encoded data removed]",
      "text/plain": [
       "<Figure size 1296x432 with 1 Axes>"
      ]
     },
     "metadata": {
      "needs_background": "light"
     },
     "output_type": "display_data"
    }
   ],
   "source": [
    "plt.figure(figsize=(18,6))\n",
    "sb.barplot(pandas_df3['addr_state'],pandas_df3['count'],data=pandas_df3)\n",
    "plt.show()"
   ]
  },
  {
   "cell_type": "code",
   "execution_count": 24,
   "id": "37650762",
   "metadata": {},
   "outputs": [
    {
     "name": "stdout",
     "output_type": "stream",
     "text": [
      "+-----+---------------+\n",
      "|grade|total_loan_amnt|\n",
      "+-----+---------------+\n",
      "|    F|        6326275|\n",
      "|    E|       83832000|\n",
      "|    B|      591596125|\n",
      "|    D|      267034700|\n",
      "|    C|      495916925|\n",
      "|    A|      604816200|\n",
      "|    G|        1387050|\n",
      "+-----+---------------+\n",
      "\n"
     ]
    }
   ],
   "source": [
    "spark.sql('select grade , sum(loan_amnt) as total_loan_amnt from cleaned_data group by grade').show()"
   ]
  },
  {
   "cell_type": "code",
   "execution_count": 25,
   "id": "756ef63b",
   "metadata": {},
   "outputs": [
    {
     "data": {
      "image/png": "[encoded data removed]",
      "text/plain": [
       "<Figure size 432x288 with 1 Axes>"
      ]
     },
     "metadata": {
      "needs_background": "light"
     },
     "output_type": "display_data"
    }
   ],
   "source": [
    "pandas_df4 = spark.sql('select grade , sum(loan_amnt) as total_loan_amnt from cleaned_data group by grade').toPandas()\n",
    "\n",
    "\n",
    "x = pandas_df4['grade']\n",
    "y = pandas_df4['total_loan_amnt']\n",
    "plt.bar(x,y,.7,align='center')\n",
    "plt.grid(True, color = \"grey\", linewidth = \"1.4\", linestyle = \"-\")\n",
    "plt.xlabel('grade')\n",
    "plt.ylabel('total_loan_amount')\n",
    "plt.show()"
   ]
  },
  {
   "cell_type": "code",
   "execution_count": 26,
   "id": "365383f4",
   "metadata": {},
   "outputs": [
    {
     "name": "stdout",
     "output_type": "stream",
     "text": [
      "+-----+--------+---------------+\n",
      "|grade|bad_loan|total_loan_amnt|\n",
      "+-----+--------+---------------+\n",
      "|    G|     Yes|         176475|\n",
      "|    B|      No|      584562525|\n",
      "|    F|      No|        5842125|\n",
      "|    E|     Yes|        3624800|\n",
      "|    C|     Yes|        8643900|\n",
      "|    B|     Yes|        7033600|\n",
      "|    A|     Yes|        3148050|\n",
      "|    F|     Yes|         484150|\n",
      "|    C|      No|      487273025|\n",
      "|    A|      No|      601668150|\n",
      "|    E|      No|       80207200|\n",
      "|    D|     Yes|        7226725|\n",
      "|    G|      No|        1210575|\n",
      "|    D|      No|      259807975|\n",
      "+-----+--------+---------------+\n",
      "\n"
     ]
    }
   ],
   "source": [
    "spark.sql('select grade , bad_loan,sum(loan_amnt) as total_loan_amnt from cleaned_data group by grade,bad_loan').show()"
   ]
  },
  {
   "cell_type": "code",
   "execution_count": 27,
   "id": "fb381815",
   "metadata": {},
   "outputs": [],
   "source": [
    "pandas_df5 = spark.sql('select grade , bad_loan,sum(loan_amnt) as total_loan_amnt from cleaned_data group by grade,bad_loan').toPandas()"
   ]
  },
  {
   "cell_type": "code",
   "execution_count": 28,
   "id": "01975826",
   "metadata": {},
   "outputs": [
    {
     "data": {
      "text/html": [
       "<div>\n",
       "<style scoped>\n",
       "    .dataframe tbody tr th:only-of-type {\n",
       "        vertical-align: middle;\n",
       "    }\n",
       "\n",
       "    .dataframe tbody tr th {\n",
       "        vertical-align: top;\n",
       "    }\n",
       "\n",
       "    .dataframe thead th {\n",
       "        text-align: right;\n",
       "    }\n",
       "</style>\n",
       "<table border=\"1\" class=\"dataframe\">\n",
       "  <thead>\n",
       "    <tr style=\"text-align: right;\">\n",
       "      <th></th>\n",
       "      <th>grade</th>\n",
       "      <th>bad_loan</th>\n",
       "      <th>total_loan_amnt</th>\n",
       "    </tr>\n",
       "  </thead>\n",
       "  <tbody>\n",
       "    <tr>\n",
       "      <th>0</th>\n",
       "      <td>G</td>\n",
       "      <td>Yes</td>\n",
       "      <td>176475</td>\n",
       "    </tr>\n",
       "    <tr>\n",
       "      <th>1</th>\n",
       "      <td>B</td>\n",
       "      <td>No</td>\n",
       "      <td>584562525</td>\n",
       "    </tr>\n",
       "    <tr>\n",
       "      <th>2</th>\n",
       "      <td>F</td>\n",
       "      <td>No</td>\n",
       "      <td>5842125</td>\n",
       "    </tr>\n",
       "    <tr>\n",
       "      <th>3</th>\n",
       "      <td>E</td>\n",
       "      <td>Yes</td>\n",
       "      <td>3624800</td>\n",
       "    </tr>\n",
       "    <tr>\n",
       "      <th>4</th>\n",
       "      <td>C</td>\n",
       "      <td>Yes</td>\n",
       "      <td>8643900</td>\n",
       "    </tr>\n",
       "  </tbody>\n",
       "</table>\n",
       "</div>"
      ],
      "text/plain": [
       "  grade bad_loan  total_loan_amnt\n",
       "0     G      Yes           176475\n",
       "1     B       No        584562525\n",
       "2     F       No          5842125\n",
       "3     E      Yes          3624800\n",
       "4     C      Yes          8643900"
      ]
     },
     "execution_count": 28,
     "metadata": {},
     "output_type": "execute_result"
    }
   ],
   "source": [
    "pandas_df5.head()"
   ]
  },
  {
   "cell_type": "code",
   "execution_count": 29,
   "id": "d9c873cd",
   "metadata": {},
   "outputs": [],
   "source": [
    "#y = pandas_df5.total_loan_amnt\n",
    "\n",
    "x1_yes = pandas_df5[pandas_df5.bad_loan=='Yes']\n",
    "\n",
    "x2_no = pandas_df5[pandas_df5.bad_loan=='No']"
   ]
  },
  {
   "cell_type": "code",
   "execution_count": 30,
   "id": "f6699c89",
   "metadata": {},
   "outputs": [
    {
     "data": {
      "text/html": [
       "<div>\n",
       "<style scoped>\n",
       "    .dataframe tbody tr th:only-of-type {\n",
       "        vertical-align: middle;\n",
       "    }\n",
       "\n",
       "    .dataframe tbody tr th {\n",
       "        vertical-align: top;\n",
       "    }\n",
       "\n",
       "    .dataframe thead th {\n",
       "        text-align: right;\n",
       "    }\n",
       "</style>\n",
       "<table border=\"1\" class=\"dataframe\">\n",
       "  <thead>\n",
       "    <tr style=\"text-align: right;\">\n",
       "      <th></th>\n",
       "      <th>grade</th>\n",
       "      <th>bad_loan</th>\n",
       "      <th>total_loan_amnt</th>\n",
       "    </tr>\n",
       "  </thead>\n",
       "  <tbody>\n",
       "    <tr>\n",
       "      <th>1</th>\n",
       "      <td>B</td>\n",
       "      <td>No</td>\n",
       "      <td>584562525</td>\n",
       "    </tr>\n",
       "    <tr>\n",
       "      <th>2</th>\n",
       "      <td>F</td>\n",
       "      <td>No</td>\n",
       "      <td>5842125</td>\n",
       "    </tr>\n",
       "    <tr>\n",
       "      <th>8</th>\n",
       "      <td>C</td>\n",
       "      <td>No</td>\n",
       "      <td>487273025</td>\n",
       "    </tr>\n",
       "    <tr>\n",
       "      <th>9</th>\n",
       "      <td>A</td>\n",
       "      <td>No</td>\n",
       "      <td>601668150</td>\n",
       "    </tr>\n",
       "    <tr>\n",
       "      <th>10</th>\n",
       "      <td>E</td>\n",
       "      <td>No</td>\n",
       "      <td>80207200</td>\n",
       "    </tr>\n",
       "    <tr>\n",
       "      <th>12</th>\n",
       "      <td>G</td>\n",
       "      <td>No</td>\n",
       "      <td>1210575</td>\n",
       "    </tr>\n",
       "    <tr>\n",
       "      <th>13</th>\n",
       "      <td>D</td>\n",
       "      <td>No</td>\n",
       "      <td>259807975</td>\n",
       "    </tr>\n",
       "  </tbody>\n",
       "</table>\n",
       "</div>"
      ],
      "text/plain": [
       "   grade bad_loan  total_loan_amnt\n",
       "1      B       No        584562525\n",
       "2      F       No          5842125\n",
       "8      C       No        487273025\n",
       "9      A       No        601668150\n",
       "10     E       No         80207200\n",
       "12     G       No          1210575\n",
       "13     D       No        259807975"
      ]
     },
     "execution_count": 30,
     "metadata": {},
     "output_type": "execute_result"
    }
   ],
   "source": [
    "x2_no"
   ]
  },
  {
   "cell_type": "code",
   "execution_count": null,
   "id": "10f364bf",
   "metadata": {},
   "outputs": [],
   "source": []
  },
  {
   "cell_type": "code",
   "execution_count": 31,
   "id": "4f6f9b70",
   "metadata": {},
   "outputs": [
    {
     "data": {
      "image/png": "[encoded data removed]",
      "text/plain": [
       "<Figure size 432x288 with 1 Axes>"
      ]
     },
     "metadata": {
      "needs_background": "light"
     },
     "output_type": "display_data"
    }
   ],
   "source": [
    "s = sb.barplot(x =\"grade\", y = 'total_loan_amnt', data = pandas_df5, hue = \"bad_loan\")\n",
    "plt.show()"
   ]
  },
  {
   "cell_type": "code",
   "execution_count": 32,
   "id": "287ebf34",
   "metadata": {},
   "outputs": [
    {
     "name": "stdout",
     "output_type": "stream",
     "text": [
      "+---------+\n",
      "|loan_amnt|\n",
      "+---------+\n",
      "|    16000|\n",
      "|    25000|\n",
      "|    15000|\n",
      "|    10000|\n",
      "|    12000|\n",
      "|     5975|\n",
      "|    24000|\n",
      "|    30000|\n",
      "|    15000|\n",
      "|    14000|\n",
      "|    12000|\n",
      "|     5100|\n",
      "|    10000|\n",
      "|    10000|\n",
      "|    20000|\n",
      "|    10000|\n",
      "|     9500|\n",
      "|    13000|\n",
      "|    14000|\n",
      "|    15000|\n",
      "+---------+\n",
      "only showing top 20 rows\n",
      "\n"
     ]
    }
   ],
   "source": [
    "spark.sql('select loan_amnt from cleaned_data').show()"
   ]
  },
  {
   "cell_type": "code",
   "execution_count": 33,
   "id": "37caffea",
   "metadata": {},
   "outputs": [],
   "source": [
    "loan = df.select('loan_amnt').toPandas()"
   ]
  },
  {
   "cell_type": "code",
   "execution_count": 34,
   "id": "3d9fcc98",
   "metadata": {},
   "outputs": [
    {
     "data": {
      "text/html": [
       "<div>\n",
       "<style scoped>\n",
       "    .dataframe tbody tr th:only-of-type {\n",
       "        vertical-align: middle;\n",
       "    }\n",
       "\n",
       "    .dataframe tbody tr th {\n",
       "        vertical-align: top;\n",
       "    }\n",
       "\n",
       "    .dataframe thead th {\n",
       "        text-align: right;\n",
       "    }\n",
       "</style>\n",
       "<table border=\"1\" class=\"dataframe\">\n",
       "  <thead>\n",
       "    <tr style=\"text-align: right;\">\n",
       "      <th></th>\n",
       "      <th>loan_amnt</th>\n",
       "    </tr>\n",
       "  </thead>\n",
       "  <tbody>\n",
       "    <tr>\n",
       "      <th>count</th>\n",
       "      <td>128412.000000</td>\n",
       "    </tr>\n",
       "    <tr>\n",
       "      <th>mean</th>\n",
       "      <td>15971.321021</td>\n",
       "    </tr>\n",
       "    <tr>\n",
       "      <th>std</th>\n",
       "      <td>10150.384233</td>\n",
       "    </tr>\n",
       "    <tr>\n",
       "      <th>min</th>\n",
       "      <td>1000.000000</td>\n",
       "    </tr>\n",
       "    <tr>\n",
       "      <th>25%</th>\n",
       "      <td>8000.000000</td>\n",
       "    </tr>\n",
       "    <tr>\n",
       "      <th>50%</th>\n",
       "      <td>14000.000000</td>\n",
       "    </tr>\n",
       "    <tr>\n",
       "      <th>75%</th>\n",
       "      <td>21600.000000</td>\n",
       "    </tr>\n",
       "    <tr>\n",
       "      <th>max</th>\n",
       "      <td>40000.000000</td>\n",
       "    </tr>\n",
       "  </tbody>\n",
       "</table>\n",
       "</div>"
      ],
      "text/plain": [
       "           loan_amnt\n",
       "count  128412.000000\n",
       "mean    15971.321021\n",
       "std     10150.384233\n",
       "min      1000.000000\n",
       "25%      8000.000000\n",
       "50%     14000.000000\n",
       "75%     21600.000000\n",
       "max     40000.000000"
      ]
     },
     "execution_count": 34,
     "metadata": {},
     "output_type": "execute_result"
    }
   ],
   "source": [
    "loan.describe()"
   ]
  },
  {
   "cell_type": "code",
   "execution_count": 35,
   "id": "c1cffc34",
   "metadata": {},
   "outputs": [
    {
     "data": {
      "image/png": "[encoded data removed]",
      "text/plain": [
       "<Figure size 432x288 with 1 Axes>"
      ]
     },
     "metadata": {
      "needs_background": "light"
     },
     "output_type": "display_data"
    }
   ],
   "source": [
    "plt.hist(loan,bins=80)\n",
    "plt.show()"
   ]
  },
  {
   "cell_type": "code",
   "execution_count": 36,
   "id": "1ded6835",
   "metadata": {},
   "outputs": [
    {
     "data": {
      "image/png": "[encoded data removed]",
      "text/plain": [
       "<Figure size 864x432 with 1 Axes>"
      ]
     },
     "metadata": {
      "needs_background": "light"
     },
     "output_type": "display_data"
    }
   ],
   "source": [
    "plt.figure(figsize=(12,6))\n",
    "sb.boxplot(x=loan.to_numpy())\n",
    "plt.show()"
   ]
  },
  {
   "cell_type": "code",
   "execution_count": 37,
   "id": "fa6405f4",
   "metadata": {},
   "outputs": [],
   "source": [
    "### Distribution is not symmetric"
   ]
  },
  {
   "cell_type": "code",
   "execution_count": 38,
   "id": "168e97de",
   "metadata": {},
   "outputs": [
    {
     "name": "stdout",
     "output_type": "stream",
     "text": [
      "+---------+--------+\n",
      "|loan_amnt|bad_loan|\n",
      "+---------+--------+\n",
      "|    16000|      No|\n",
      "|    25000|      No|\n",
      "|    15000|      No|\n",
      "|    10000|      No|\n",
      "|    12000|      No|\n",
      "|     5975|      No|\n",
      "|    24000|      No|\n",
      "|    30000|      No|\n",
      "|    15000|      No|\n",
      "|    14000|      No|\n",
      "|    12000|      No|\n",
      "|     5100|      No|\n",
      "|    10000|      No|\n",
      "|    10000|      No|\n",
      "|    20000|      No|\n",
      "|    10000|      No|\n",
      "|     9500|      No|\n",
      "|    13000|      No|\n",
      "|    14000|      No|\n",
      "|    15000|      No|\n",
      "+---------+--------+\n",
      "only showing top 20 rows\n",
      "\n"
     ]
    }
   ],
   "source": [
    "spark.sql('select loan_amnt,bad_loan from cleaned_data').show()"
   ]
  },
  {
   "cell_type": "code",
   "execution_count": 39,
   "id": "01de079f",
   "metadata": {},
   "outputs": [],
   "source": [
    "df2 = df.toPandas()"
   ]
  },
  {
   "cell_type": "code",
   "execution_count": 40,
   "id": "f02c9fc2",
   "metadata": {},
   "outputs": [
    {
     "data": {
      "image/png": "[encoded data removed]",
      "text/plain": [
       "<Figure size 864x360 with 1 Axes>"
      ]
     },
     "metadata": {
      "needs_background": "light"
     },
     "output_type": "display_data"
    }
   ],
   "source": [
    "plt.figure(figsize=(12,5))\n",
    "sb.boxplot(x = 'loan_amnt',y = 'bad_loan',data = df2)\n",
    "plt.show()"
   ]
  },
  {
   "cell_type": "code",
   "execution_count": 41,
   "id": "67881de1",
   "metadata": {},
   "outputs": [
    {
     "data": {
      "text/plain": [
       "<function __main__.trim(string)>"
      ]
     },
     "execution_count": 41,
     "metadata": {},
     "output_type": "execute_result"
    }
   ],
   "source": [
    "def trim(string):\n",
    "    return string.strip('%')\n",
    "\n",
    "spark.udf.register('trimpercent',trim)"
   ]
  },
  {
   "cell_type": "code",
   "execution_count": 42,
   "id": "e5b8b641",
   "metadata": {},
   "outputs": [
    {
     "name": "stdout",
     "output_type": "stream",
     "text": [
      "+--------+--------------+\n",
      "|int_rate|int_rate_float|\n",
      "+--------+--------------+\n",
      "|  13.56%|         13.56|\n",
      "|  13.56%|         13.56|\n",
      "|   6.67%|          6.67|\n",
      "|  10.08%|         10.08|\n",
      "|  11.55%|         11.55|\n",
      "|   8.46%|          8.46|\n",
      "|  11.55%|         11.55|\n",
      "|  19.92%|         19.92|\n",
      "|  13.56%|         13.56|\n",
      "|   7.84%|          7.84|\n",
      "|  18.94%|         18.94|\n",
      "|  12.73%|         12.73|\n",
      "|  18.94%|         18.94|\n",
      "|  12.73%|         12.73|\n",
      "|  11.06%|         11.06|\n",
      "|   6.11%|          6.11|\n",
      "|  10.47%|         10.47|\n",
      "|  11.55%|         11.55|\n",
      "|  22.35%|         22.35|\n",
      "|   6.11%|          6.11|\n",
      "+--------+--------------+\n",
      "only showing top 20 rows\n",
      "\n"
     ]
    },
    {
     "name": "stderr",
     "output_type": "stream",
     "text": [
      "\r",
      "[Stage 39:>                                                         (0 + 1) / 1]\r",
      "\r",
      "                                                                                \r"
     ]
    }
   ],
   "source": [
    "spark.sql('select int_rate,cast(trimpercent(int_rate) as float) as int_rate_float from cleaned_data').show()"
   ]
  },
  {
   "cell_type": "code",
   "execution_count": 43,
   "id": "7ae809a1",
   "metadata": {},
   "outputs": [
    {
     "name": "stdout",
     "output_type": "stream",
     "text": [
      "+--------+--------------+\n",
      "|bad_loan|int_rate_float|\n",
      "+--------+--------------+\n",
      "|      No|         13.56|\n",
      "|      No|         13.56|\n",
      "|      No|          6.67|\n",
      "|      No|         10.08|\n",
      "|      No|         11.55|\n",
      "|      No|          8.46|\n",
      "|      No|         11.55|\n",
      "|      No|         19.92|\n",
      "|      No|         13.56|\n",
      "|      No|          7.84|\n",
      "|      No|         18.94|\n",
      "|      No|         12.73|\n",
      "|      No|         18.94|\n",
      "|      No|         12.73|\n",
      "|      No|         11.06|\n",
      "|      No|          6.11|\n",
      "|      No|         10.47|\n",
      "|      No|         11.55|\n",
      "|      No|         22.35|\n",
      "|      No|          6.11|\n",
      "+--------+--------------+\n",
      "only showing top 20 rows\n",
      "\n"
     ]
    }
   ],
   "source": [
    "spark.sql('select bad_loan,cast(trimpercent(int_rate) as float) as int_rate_float from cleaned_data').show()"
   ]
  },
  {
   "cell_type": "code",
   "execution_count": 44,
   "id": "9276331d",
   "metadata": {},
   "outputs": [],
   "source": [
    "df4 = spark.sql('select bad_loan,cast(trimpercent(int_rate) as float) as int_rate_float from cleaned_data').toPandas()"
   ]
  },
  {
   "cell_type": "code",
   "execution_count": 45,
   "id": "8d5b4eca",
   "metadata": {},
   "outputs": [
    {
     "data": {
      "text/html": [
       "<div>\n",
       "<style scoped>\n",
       "    .dataframe tbody tr th:only-of-type {\n",
       "        vertical-align: middle;\n",
       "    }\n",
       "\n",
       "    .dataframe tbody tr th {\n",
       "        vertical-align: top;\n",
       "    }\n",
       "\n",
       "    .dataframe thead tr th {\n",
       "        text-align: left;\n",
       "    }\n",
       "\n",
       "    .dataframe thead tr:last-of-type th {\n",
       "        text-align: right;\n",
       "    }\n",
       "</style>\n",
       "<table border=\"1\" class=\"dataframe\">\n",
       "  <thead>\n",
       "    <tr>\n",
       "      <th></th>\n",
       "      <th colspan=\"3\" halign=\"left\">int_rate_float</th>\n",
       "    </tr>\n",
       "    <tr>\n",
       "      <th></th>\n",
       "      <th>min</th>\n",
       "      <th>max</th>\n",
       "      <th>mean</th>\n",
       "    </tr>\n",
       "    <tr>\n",
       "      <th>bad_loan</th>\n",
       "      <th></th>\n",
       "      <th></th>\n",
       "      <th></th>\n",
       "    </tr>\n",
       "  </thead>\n",
       "  <tbody>\n",
       "    <tr>\n",
       "      <th>No</th>\n",
       "      <td>6.00</td>\n",
       "      <td>30.990000</td>\n",
       "      <td>12.878821</td>\n",
       "    </tr>\n",
       "    <tr>\n",
       "      <th>Yes</th>\n",
       "      <td>6.11</td>\n",
       "      <td>30.940001</td>\n",
       "      <td>16.506908</td>\n",
       "    </tr>\n",
       "  </tbody>\n",
       "</table>\n",
       "</div>"
      ],
      "text/plain": [
       "         int_rate_float                      \n",
       "                    min        max       mean\n",
       "bad_loan                                     \n",
       "No                 6.00  30.990000  12.878821\n",
       "Yes                6.11  30.940001  16.506908"
      ]
     },
     "execution_count": 45,
     "metadata": {},
     "output_type": "execute_result"
    }
   ],
   "source": [
    "df4.groupby('bad_loan').aggregate(['min','max','mean'])"
   ]
  },
  {
   "cell_type": "code",
   "execution_count": 46,
   "id": "ca0870c2",
   "metadata": {},
   "outputs": [
    {
     "name": "stdout",
     "output_type": "stream",
     "text": [
      "+--------------+--------+---------+\n",
      "|home_ownership|bad_loan|loan_amnt|\n",
      "+--------------+--------+---------+\n",
      "|      MORTGAGE|      No|    16000|\n",
      "|      MORTGAGE|      No|    25000|\n",
      "|      MORTGAGE|      No|    15000|\n",
      "|          RENT|      No|    10000|\n",
      "|      MORTGAGE|      No|    12000|\n",
      "|          RENT|      No|     5975|\n",
      "|      MORTGAGE|      No|    24000|\n",
      "|          RENT|      No|    30000|\n",
      "|          RENT|      No|    15000|\n",
      "|          RENT|      No|    14000|\n",
      "|          RENT|      No|    12000|\n",
      "|      MORTGAGE|      No|     5100|\n",
      "|          RENT|      No|    10000|\n",
      "|      MORTGAGE|      No|    10000|\n",
      "|      MORTGAGE|      No|    20000|\n",
      "|           OWN|      No|    10000|\n",
      "|      MORTGAGE|      No|     9500|\n",
      "|      MORTGAGE|      No|    13000|\n",
      "|          RENT|      No|    14000|\n",
      "|          RENT|      No|    15000|\n",
      "+--------------+--------+---------+\n",
      "only showing top 20 rows\n",
      "\n"
     ]
    }
   ],
   "source": [
    "spark.sql('select home_ownership,bad_loan,loan_amnt from cleaned_data').show()"
   ]
  },
  {
   "cell_type": "code",
   "execution_count": 47,
   "id": "ca885741",
   "metadata": {},
   "outputs": [],
   "source": [
    "df5 = spark.sql('select home_ownership,bad_loan,loan_amnt from cleaned_data').toPandas()"
   ]
  },
  {
   "cell_type": "code",
   "execution_count": 48,
   "id": "616d5b8a",
   "metadata": {},
   "outputs": [
    {
     "data": {
      "text/html": [
       "<div>\n",
       "<style scoped>\n",
       "    .dataframe tbody tr th:only-of-type {\n",
       "        vertical-align: middle;\n",
       "    }\n",
       "\n",
       "    .dataframe tbody tr th {\n",
       "        vertical-align: top;\n",
       "    }\n",
       "\n",
       "    .dataframe thead th {\n",
       "        text-align: right;\n",
       "    }\n",
       "</style>\n",
       "<table border=\"1\" class=\"dataframe\">\n",
       "  <thead>\n",
       "    <tr style=\"text-align: right;\">\n",
       "      <th></th>\n",
       "      <th>home_ownership</th>\n",
       "      <th>bad_loan</th>\n",
       "      <th>loan_amnt</th>\n",
       "    </tr>\n",
       "  </thead>\n",
       "  <tbody>\n",
       "    <tr>\n",
       "      <th>0</th>\n",
       "      <td>MORTGAGE</td>\n",
       "      <td>No</td>\n",
       "      <td>16000</td>\n",
       "    </tr>\n",
       "    <tr>\n",
       "      <th>1</th>\n",
       "      <td>MORTGAGE</td>\n",
       "      <td>No</td>\n",
       "      <td>25000</td>\n",
       "    </tr>\n",
       "    <tr>\n",
       "      <th>2</th>\n",
       "      <td>MORTGAGE</td>\n",
       "      <td>No</td>\n",
       "      <td>15000</td>\n",
       "    </tr>\n",
       "    <tr>\n",
       "      <th>3</th>\n",
       "      <td>RENT</td>\n",
       "      <td>No</td>\n",
       "      <td>10000</td>\n",
       "    </tr>\n",
       "    <tr>\n",
       "      <th>4</th>\n",
       "      <td>MORTGAGE</td>\n",
       "      <td>No</td>\n",
       "      <td>12000</td>\n",
       "    </tr>\n",
       "  </tbody>\n",
       "</table>\n",
       "</div>"
      ],
      "text/plain": [
       "  home_ownership bad_loan  loan_amnt\n",
       "0       MORTGAGE       No      16000\n",
       "1       MORTGAGE       No      25000\n",
       "2       MORTGAGE       No      15000\n",
       "3           RENT       No      10000\n",
       "4       MORTGAGE       No      12000"
      ]
     },
     "execution_count": 48,
     "metadata": {},
     "output_type": "execute_result"
    }
   ],
   "source": [
    "df5.head()"
   ]
  },
  {
   "cell_type": "code",
   "execution_count": 49,
   "id": "f4576bbe",
   "metadata": {},
   "outputs": [
    {
     "data": {
      "text/html": [
       "<div>\n",
       "<style scoped>\n",
       "    .dataframe tbody tr th:only-of-type {\n",
       "        vertical-align: middle;\n",
       "    }\n",
       "\n",
       "    .dataframe tbody tr th {\n",
       "        vertical-align: top;\n",
       "    }\n",
       "\n",
       "    .dataframe thead th {\n",
       "        text-align: right;\n",
       "    }\n",
       "</style>\n",
       "<table border=\"1\" class=\"dataframe\">\n",
       "  <thead>\n",
       "    <tr style=\"text-align: right;\">\n",
       "      <th></th>\n",
       "      <th></th>\n",
       "      <th>count</th>\n",
       "      <th>mean</th>\n",
       "      <th>std</th>\n",
       "      <th>min</th>\n",
       "      <th>25%</th>\n",
       "      <th>50%</th>\n",
       "      <th>75%</th>\n",
       "      <th>max</th>\n",
       "    </tr>\n",
       "    <tr>\n",
       "      <th>home_ownership</th>\n",
       "      <th>bad_loan</th>\n",
       "      <th></th>\n",
       "      <th></th>\n",
       "      <th></th>\n",
       "      <th></th>\n",
       "      <th></th>\n",
       "      <th></th>\n",
       "      <th></th>\n",
       "      <th></th>\n",
       "    </tr>\n",
       "  </thead>\n",
       "  <tbody>\n",
       "    <tr>\n",
       "      <th rowspan=\"2\" valign=\"top\">ANY</th>\n",
       "      <th>No</th>\n",
       "      <td>326.0</td>\n",
       "      <td>12382.131902</td>\n",
       "      <td>7988.005006</td>\n",
       "      <td>1000.0</td>\n",
       "      <td>6525.0</td>\n",
       "      <td>10000.0</td>\n",
       "      <td>16000.0</td>\n",
       "      <td>40000.0</td>\n",
       "    </tr>\n",
       "    <tr>\n",
       "      <th>Yes</th>\n",
       "      <td>7.0</td>\n",
       "      <td>12557.142857</td>\n",
       "      <td>13090.945617</td>\n",
       "      <td>1000.0</td>\n",
       "      <td>4950.0</td>\n",
       "      <td>10000.0</td>\n",
       "      <td>13500.0</td>\n",
       "      <td>40000.0</td>\n",
       "    </tr>\n",
       "    <tr>\n",
       "      <th rowspan=\"2\" valign=\"top\">MORTGAGE</th>\n",
       "      <th>No</th>\n",
       "      <td>62678.0</td>\n",
       "      <td>17652.562303</td>\n",
       "      <td>10562.935887</td>\n",
       "      <td>1000.0</td>\n",
       "      <td>10000.0</td>\n",
       "      <td>15000.0</td>\n",
       "      <td>25000.0</td>\n",
       "      <td>40000.0</td>\n",
       "    </tr>\n",
       "    <tr>\n",
       "      <th>Yes</th>\n",
       "      <td>812.0</td>\n",
       "      <td>18164.470443</td>\n",
       "      <td>10773.412764</td>\n",
       "      <td>1000.0</td>\n",
       "      <td>10000.0</td>\n",
       "      <td>16000.0</td>\n",
       "      <td>25000.0</td>\n",
       "      <td>40000.0</td>\n",
       "    </tr>\n",
       "    <tr>\n",
       "      <th rowspan=\"2\" valign=\"top\">OWN</th>\n",
       "      <th>No</th>\n",
       "      <td>13754.0</td>\n",
       "      <td>14796.815472</td>\n",
       "      <td>9648.556337</td>\n",
       "      <td>1000.0</td>\n",
       "      <td>7500.0</td>\n",
       "      <td>12000.0</td>\n",
       "      <td>20000.0</td>\n",
       "      <td>40000.0</td>\n",
       "    </tr>\n",
       "    <tr>\n",
       "      <th>Yes</th>\n",
       "      <td>239.0</td>\n",
       "      <td>15177.405858</td>\n",
       "      <td>9862.373428</td>\n",
       "      <td>1000.0</td>\n",
       "      <td>8000.0</td>\n",
       "      <td>12000.0</td>\n",
       "      <td>20000.0</td>\n",
       "      <td>40000.0</td>\n",
       "    </tr>\n",
       "    <tr>\n",
       "      <th rowspan=\"2\" valign=\"top\">RENT</th>\n",
       "      <th>No</th>\n",
       "      <td>49826.0</td>\n",
       "      <td>14181.196564</td>\n",
       "      <td>9368.788403</td>\n",
       "      <td>1000.0</td>\n",
       "      <td>7000.0</td>\n",
       "      <td>12000.0</td>\n",
       "      <td>20000.0</td>\n",
       "      <td>40000.0</td>\n",
       "    </tr>\n",
       "    <tr>\n",
       "      <th>Yes</th>\n",
       "      <td>770.0</td>\n",
       "      <td>15419.285714</td>\n",
       "      <td>10192.880420</td>\n",
       "      <td>1000.0</td>\n",
       "      <td>7500.0</td>\n",
       "      <td>13000.0</td>\n",
       "      <td>21000.0</td>\n",
       "      <td>40000.0</td>\n",
       "    </tr>\n",
       "  </tbody>\n",
       "</table>\n",
       "</div>"
      ],
      "text/plain": [
       "                           count          mean           std     min      25%  \\\n",
       "home_ownership bad_loan                                                         \n",
       "ANY            No          326.0  12382.131902   7988.005006  1000.0   6525.0   \n",
       "               Yes           7.0  12557.142857  13090.945617  1000.0   4950.0   \n",
       "MORTGAGE       No        62678.0  17652.562303  10562.935887  1000.0  10000.0   \n",
       "               Yes         812.0  18164.470443  10773.412764  1000.0  10000.0   \n",
       "OWN            No        13754.0  14796.815472   9648.556337  1000.0   7500.0   \n",
       "               Yes         239.0  15177.405858   9862.373428  1000.0   8000.0   \n",
       "RENT           No        49826.0  14181.196564   9368.788403  1000.0   7000.0   \n",
       "               Yes         770.0  15419.285714  10192.880420  1000.0   7500.0   \n",
       "\n",
       "                             50%      75%      max  \n",
       "home_ownership bad_loan                             \n",
       "ANY            No        10000.0  16000.0  40000.0  \n",
       "               Yes       10000.0  13500.0  40000.0  \n",
       "MORTGAGE       No        15000.0  25000.0  40000.0  \n",
       "               Yes       16000.0  25000.0  40000.0  \n",
       "OWN            No        12000.0  20000.0  40000.0  \n",
       "               Yes       12000.0  20000.0  40000.0  \n",
       "RENT           No        12000.0  20000.0  40000.0  \n",
       "               Yes       13000.0  21000.0  40000.0  "
      ]
     },
     "execution_count": 49,
     "metadata": {},
     "output_type": "execute_result"
    }
   ],
   "source": [
    "df5.groupby(['home_ownership','bad_loan']).loan_amnt.describe()"
   ]
  },
  {
   "cell_type": "code",
   "execution_count": 50,
   "id": "31e0ba03",
   "metadata": {},
   "outputs": [
    {
     "name": "stdout",
     "output_type": "stream",
     "text": [
      "+------------------+--------+---------+\n",
      "|           purpose|bad_loan|loan_amnt|\n",
      "+------------------+--------+---------+\n",
      "|       credit_card|      No|    16000|\n",
      "|debt_consolidation|      No|    25000|\n",
      "|debt_consolidation|      No|    15000|\n",
      "|debt_consolidation|      No|    10000|\n",
      "|       credit_card|      No|    12000|\n",
      "|debt_consolidation|      No|     5975|\n",
      "|debt_consolidation|      No|    24000|\n",
      "|debt_consolidation|      No|    30000|\n",
      "|debt_consolidation|      No|    15000|\n",
      "|       credit_card|      No|    14000|\n",
      "|debt_consolidation|      No|    12000|\n",
      "|debt_consolidation|      No|     5100|\n",
      "|       credit_card|      No|    10000|\n",
      "|  home_improvement|      No|    10000|\n",
      "|  home_improvement|      No|    20000|\n",
      "|debt_consolidation|      No|    10000|\n",
      "|debt_consolidation|      No|     9500|\n",
      "|       credit_card|      No|    13000|\n",
      "|debt_consolidation|      No|    14000|\n",
      "|       credit_card|      No|    15000|\n",
      "+------------------+--------+---------+\n",
      "only showing top 20 rows\n",
      "\n"
     ]
    }
   ],
   "source": [
    "spark.sql('select purpose,bad_loan,loan_amnt from cleaned_data').show()"
   ]
  },
  {
   "cell_type": "code",
   "execution_count": 51,
   "id": "fafee689",
   "metadata": {},
   "outputs": [],
   "source": [
    "#df6 = spark.sql('select purpose,bad_loan,loan_amnt from cleaned_data').toPandas()\n",
    "df6 = spark.sql('select purpose,loan_status,loan_amnt from cleaned_data').toPandas()"
   ]
  },
  {
   "cell_type": "code",
   "execution_count": 52,
   "id": "be504133",
   "metadata": {},
   "outputs": [
    {
     "data": {
      "text/html": [
       "<div>\n",
       "<style scoped>\n",
       "    .dataframe tbody tr th:only-of-type {\n",
       "        vertical-align: middle;\n",
       "    }\n",
       "\n",
       "    .dataframe tbody tr th {\n",
       "        vertical-align: top;\n",
       "    }\n",
       "\n",
       "    .dataframe thead th {\n",
       "        text-align: right;\n",
       "    }\n",
       "</style>\n",
       "<table border=\"1\" class=\"dataframe\">\n",
       "  <thead>\n",
       "    <tr style=\"text-align: right;\">\n",
       "      <th></th>\n",
       "      <th></th>\n",
       "      <th>count</th>\n",
       "      <th>mean</th>\n",
       "      <th>std</th>\n",
       "      <th>min</th>\n",
       "      <th>25%</th>\n",
       "      <th>50%</th>\n",
       "      <th>75%</th>\n",
       "      <th>max</th>\n",
       "    </tr>\n",
       "    <tr>\n",
       "      <th>purpose</th>\n",
       "      <th>loan_status</th>\n",
       "      <th></th>\n",
       "      <th></th>\n",
       "      <th></th>\n",
       "      <th></th>\n",
       "      <th></th>\n",
       "      <th></th>\n",
       "      <th></th>\n",
       "      <th></th>\n",
       "    </tr>\n",
       "  </thead>\n",
       "  <tbody>\n",
       "    <tr>\n",
       "      <th rowspan=\"5\" valign=\"top\">car</th>\n",
       "      <th>Charged Off</th>\n",
       "      <td>1.0</td>\n",
       "      <td>20000.000000</td>\n",
       "      <td>NaN</td>\n",
       "      <td>20000.0</td>\n",
       "      <td>20000.00</td>\n",
       "      <td>20000.0</td>\n",
       "      <td>20000.00</td>\n",
       "      <td>20000.0</td>\n",
       "    </tr>\n",
       "    <tr>\n",
       "      <th>Current</th>\n",
       "      <td>934.0</td>\n",
       "      <td>10593.495717</td>\n",
       "      <td>8144.208343</td>\n",
       "      <td>1000.0</td>\n",
       "      <td>5000.00</td>\n",
       "      <td>8000.0</td>\n",
       "      <td>14400.00</td>\n",
       "      <td>40000.0</td>\n",
       "    </tr>\n",
       "    <tr>\n",
       "      <th>Fully Paid</th>\n",
       "      <td>86.0</td>\n",
       "      <td>10495.930233</td>\n",
       "      <td>8875.306838</td>\n",
       "      <td>1000.0</td>\n",
       "      <td>4850.00</td>\n",
       "      <td>8075.0</td>\n",
       "      <td>12575.00</td>\n",
       "      <td>40000.0</td>\n",
       "    </tr>\n",
       "    <tr>\n",
       "      <th>In Grace Period</th>\n",
       "      <td>6.0</td>\n",
       "      <td>12666.666667</td>\n",
       "      <td>4033.195590</td>\n",
       "      <td>5000.0</td>\n",
       "      <td>12250.00</td>\n",
       "      <td>14000.0</td>\n",
       "      <td>15000.00</td>\n",
       "      <td>16000.0</td>\n",
       "    </tr>\n",
       "    <tr>\n",
       "      <th>Late (16-30 days)</th>\n",
       "      <td>5.0</td>\n",
       "      <td>8600.000000</td>\n",
       "      <td>6298.809411</td>\n",
       "      <td>2500.0</td>\n",
       "      <td>2500.00</td>\n",
       "      <td>8000.0</td>\n",
       "      <td>14000.00</td>\n",
       "      <td>16000.0</td>\n",
       "    </tr>\n",
       "    <tr>\n",
       "      <th>...</th>\n",
       "      <th>...</th>\n",
       "      <td>...</td>\n",
       "      <td>...</td>\n",
       "      <td>...</td>\n",
       "      <td>...</td>\n",
       "      <td>...</td>\n",
       "      <td>...</td>\n",
       "      <td>...</td>\n",
       "      <td>...</td>\n",
       "    </tr>\n",
       "    <tr>\n",
       "      <th rowspan=\"5\" valign=\"top\">vacation</th>\n",
       "      <th>Current</th>\n",
       "      <td>736.0</td>\n",
       "      <td>6353.328804</td>\n",
       "      <td>6038.439153</td>\n",
       "      <td>1000.0</td>\n",
       "      <td>2500.00</td>\n",
       "      <td>5000.0</td>\n",
       "      <td>8000.00</td>\n",
       "      <td>40000.0</td>\n",
       "    </tr>\n",
       "    <tr>\n",
       "      <th>Fully Paid</th>\n",
       "      <td>48.0</td>\n",
       "      <td>6045.312500</td>\n",
       "      <td>6596.180101</td>\n",
       "      <td>1000.0</td>\n",
       "      <td>2968.75</td>\n",
       "      <td>4400.0</td>\n",
       "      <td>6006.25</td>\n",
       "      <td>33000.0</td>\n",
       "    </tr>\n",
       "    <tr>\n",
       "      <th>In Grace Period</th>\n",
       "      <td>2.0</td>\n",
       "      <td>8100.000000</td>\n",
       "      <td>9758.073580</td>\n",
       "      <td>1200.0</td>\n",
       "      <td>4650.00</td>\n",
       "      <td>8100.0</td>\n",
       "      <td>11550.00</td>\n",
       "      <td>15000.0</td>\n",
       "    </tr>\n",
       "    <tr>\n",
       "      <th>Late (16-30 days)</th>\n",
       "      <td>2.0</td>\n",
       "      <td>11500.000000</td>\n",
       "      <td>12020.815280</td>\n",
       "      <td>3000.0</td>\n",
       "      <td>7250.00</td>\n",
       "      <td>11500.0</td>\n",
       "      <td>15750.00</td>\n",
       "      <td>20000.0</td>\n",
       "    </tr>\n",
       "    <tr>\n",
       "      <th>Late (31-120 days)</th>\n",
       "      <td>13.0</td>\n",
       "      <td>9550.000000</td>\n",
       "      <td>9890.525770</td>\n",
       "      <td>1500.0</td>\n",
       "      <td>2500.00</td>\n",
       "      <td>3200.0</td>\n",
       "      <td>20000.00</td>\n",
       "      <td>25000.0</td>\n",
       "    </tr>\n",
       "  </tbody>\n",
       "</table>\n",
       "<p>67 rows × 8 columns</p>\n",
       "</div>"
      ],
      "text/plain": [
       "                             count          mean           std      min  \\\n",
       "purpose  loan_status                                                      \n",
       "car      Charged Off           1.0  20000.000000           NaN  20000.0   \n",
       "         Current             934.0  10593.495717   8144.208343   1000.0   \n",
       "         Fully Paid           86.0  10495.930233   8875.306838   1000.0   \n",
       "         In Grace Period       6.0  12666.666667   4033.195590   5000.0   \n",
       "         Late (16-30 days)     5.0   8600.000000   6298.809411   2500.0   \n",
       "...                            ...           ...           ...      ...   \n",
       "vacation Current             736.0   6353.328804   6038.439153   1000.0   \n",
       "         Fully Paid           48.0   6045.312500   6596.180101   1000.0   \n",
       "         In Grace Period       2.0   8100.000000   9758.073580   1200.0   \n",
       "         Late (16-30 days)     2.0  11500.000000  12020.815280   3000.0   \n",
       "         Late (31-120 days)   13.0   9550.000000   9890.525770   1500.0   \n",
       "\n",
       "                                  25%      50%       75%      max  \n",
       "purpose  loan_status                                               \n",
       "car      Charged Off         20000.00  20000.0  20000.00  20000.0  \n",
       "         Current              5000.00   8000.0  14400.00  40000.0  \n",
       "         Fully Paid           4850.00   8075.0  12575.00  40000.0  \n",
       "         In Grace Period     12250.00  14000.0  15000.00  16000.0  \n",
       "         Late (16-30 days)    2500.00   8000.0  14000.00  16000.0  \n",
       "...                               ...      ...       ...      ...  \n",
       "vacation Current              2500.00   5000.0   8000.00  40000.0  \n",
       "         Fully Paid           2968.75   4400.0   6006.25  33000.0  \n",
       "         In Grace Period      4650.00   8100.0  11550.00  15000.0  \n",
       "         Late (16-30 days)    7250.00  11500.0  15750.00  20000.0  \n",
       "         Late (31-120 days)   2500.00   3200.0  20000.00  25000.0  \n",
       "\n",
       "[67 rows x 8 columns]"
      ]
     },
     "execution_count": 52,
     "metadata": {},
     "output_type": "execute_result"
    }
   ],
   "source": [
    "#df6.groupby(['purpose','bad_loan']).loan_amnt.describe()\n",
    "df6.groupby(['purpose','loan_status']).loan_amnt.describe()"
   ]
  },
  {
   "cell_type": "code",
   "execution_count": null,
   "id": "6431add6",
   "metadata": {},
   "outputs": [],
   "source": []
  },
  {
   "cell_type": "code",
   "execution_count": null,
   "id": "65f0afc1",
   "metadata": {},
   "outputs": [],
   "source": []
  },
  {
   "cell_type": "code",
   "execution_count": null,
   "id": "ef542bd7",
   "metadata": {},
   "outputs": [],
   "source": []
  }
 ],
 "metadata": {
  "kernelspec": {
   "display_name": "Python 3 (ipykernel)",
   "language": "python",
   "name": "python3"
  },
  "language_info": {
   "codemirror_mode": {
    "name": "ipython",
    "version": 3
   },
   "file_extension": ".py",
   "mimetype": "text/x-python",
   "name": "python",
   "nbconvert_exporter": "python",
   "pygments_lexer": "ipython3",
   "version": "3.10.0"
  }
 },
 "nbformat": 4,
 "nbformat_minor": 5
}
